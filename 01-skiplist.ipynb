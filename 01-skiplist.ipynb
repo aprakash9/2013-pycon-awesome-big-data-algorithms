{
 "metadata": {
  "name": "01-skiplist"
 },
 "nbformat": 3,
 "nbformat_minor": 0,
 "worksheets": [
  {
   "cells": [
    {
     "cell_type": "markdown",
     "metadata": {},
     "source": [
      "See http://ivory.idyll.org/blog/2013-pycon-awesome-big-data-algorithms-talk.html"
     ]
    },
    {
     "cell_type": "markdown",
     "metadata": {},
     "source": [
      "# SkipList\n",
      "\n",
      "An implementation and exploration of skiplists.\n",
      "\n",
      "Code taken/refactored from John Shipman's excellent SkipList implementation:\n",
      "http://infohost.nmt.edu/tcc/help/lang/python/examples/pyskip/pyskip.pdf"
     ]
    },
    {
     "cell_type": "code",
     "collapsed": false,
     "input": [
      "import random\n",
      "def random_level(max_level):\n",
      "    num = random.randint(1, 2**max_level - 1)\n",
      "    lognum = math.log(num, 2)\n",
      "    level = int(floor(lognum))\n",
      "    return max_level - level\n",
      "\n",
      "print random_level(8)\n",
      "print random_level(8)\n",
      "print random_level(8)\n",
      "print random_level(8)\n",
      "print random_level(8)\n",
      "print random_level(8)"
     ],
     "language": "python",
     "metadata": {},
     "outputs": [
      {
       "output_type": "stream",
       "stream": "stdout",
       "text": [
        "3\n",
        "1\n",
        "1\n",
        "4\n",
        "3\n",
        "3\n"
       ]
      }
     ],
     "prompt_number": 36
    },
    {
     "cell_type": "code",
     "collapsed": false,
     "input": [
      "class Node(object):\n",
      "    def __init__(self, value, level=0):\n",
      "        self.value = value\n",
      "        self.next = [None] * level\n",
      "    \n",
      "    def __str__(self):\n",
      "        return \"Node(%s,%s)\" % (self.value, len(self.next))\n",
      "    __repr__ = __str__\n",
      "    \n",
      "class SkipList(object):\n",
      "    def __init__(self, max_level=8):\n",
      "        self.max_level = max_level\n",
      "        n = Node(None, max_level)\n",
      "        self.head = n\n",
      "        self.verbose = False\n",
      "    \n",
      "    def update_list(self, value):\n",
      "        update = [None] * (self.max_level)\n",
      "        n = self.head\n",
      "        \n",
      "        self._n_traverse = 0\n",
      "        \n",
      "        level = self.max_level - 1\n",
      "        while level >= 0:\n",
      "            if self.verbose and \\\n",
      "                n.next[level] != None and n.next[level].value >= value:\n",
      "                print 'DROP down from level', level + 1\n",
      "            while n.next[level] != None and n.next[level].value < value:\n",
      "                self._n_traverse += 1\n",
      "                if self.verbose:\n",
      "                    print 'AT level', level, 'value', n.next[level].value\n",
      "                n = n.next[level]\n",
      "            update[level] = n\n",
      "            level -= 1\n",
      "\n",
      "        return update\n",
      "    \n",
      "    def find(self, value, update=None):\n",
      "        if update is None:\n",
      "            update = self.update_list(value)\n",
      "                        \n",
      "        if len(update) > 0:\n",
      "            candidate = update[0].next[0]\n",
      "            if candidate != None and candidate.value == value:\n",
      "                return candidate\n",
      "        return None\n",
      "    \n",
      "    def insert_node(self, value, level=None):\n",
      "        if level is None:\n",
      "            level = random_level(self.max_level)\n",
      "            \n",
      "        node = Node(value, level)\n",
      "        \n",
      "        update = self.update_list(value)\n",
      "        if self.find(value, update) == None:\n",
      "            for i in range(level):\n",
      "                node.next[i] = update[i].next[i]\n",
      "                update[i].next[i] = node\n",
      "    \n",
      "def print_level(sl, level):\n",
      "    print 'level %d:' % level,\n",
      "    node = sl.head.next[level]\n",
      "    while node:\n",
      "        print node.value, '=>',\n",
      "        node = node.next[level]\n",
      "    print 'END'\n",
      "        "
     ],
     "language": "python",
     "metadata": {},
     "outputs": [],
     "prompt_number": 37
    },
    {
     "cell_type": "code",
     "collapsed": false,
     "input": [
      "# create and load a skiplist with max level of 4\n",
      "x = SkipList(4)\n",
      "for i in range(0, 20, 2):\n",
      "    x.insert_node(i)"
     ],
     "language": "python",
     "metadata": {},
     "outputs": [],
     "prompt_number": 46
    },
    {
     "cell_type": "code",
     "collapsed": false,
     "input": [
      "# print out the data structure\n",
      "print_level(x, 0)\n",
      "print_level(x, 1)\n",
      "print_level(x, 2)"
     ],
     "language": "python",
     "metadata": {},
     "outputs": [
      {
       "output_type": "stream",
       "stream": "stdout",
       "text": [
        "level 0: 0 => 2 => 4 => 6 => 8 => 10 => 12 => 14 => 16 => 18 => END\n",
        "level 1: 2 => 6 => 10 => 12 => 18 => END\n",
        "level 2: 10 => 12 => END\n"
       ]
      }
     ],
     "prompt_number": 47
    },
    {
     "cell_type": "code",
     "collapsed": false,
     "input": [
      "# verbalize the insertion process for '11'\n",
      "x.verbose = True\n",
      "print 'INSERT', 11\n",
      "x.insert_node(11)\n",
      "print 'DONE;', x._n_traverse, 'traversals'"
     ],
     "language": "python",
     "metadata": {},
     "outputs": [
      {
       "output_type": "stream",
       "stream": "stdout",
       "text": [
        "INSERT 11\n",
        "AT level 2 value 10\n",
        "DROP down from level 2\n",
        "DROP down from level 1\n",
        "DONE; 1 traversals\n"
       ]
      }
     ],
     "prompt_number": 48
    },
    {
     "cell_type": "code",
     "collapsed": false,
     "input": [
      "# print out the updated data structure\n",
      "print_level(x, 0)\n",
      "print_level(x, 1)\n",
      "print_level(x, 2)"
     ],
     "language": "python",
     "metadata": {},
     "outputs": [
      {
       "output_type": "stream",
       "stream": "stdout",
       "text": [
        "level 0: 0 => 2 => 4 => 6 => 8 => 10 => 11 => 12 => 14 => 16 => 18 => END\n",
        "level 1: 2 => 6 => 10 => 12 => 18 => END\n",
        "level 2: 10 => 12 => END\n"
       ]
      }
     ],
     "prompt_number": 49
    },
    {
     "cell_type": "code",
     "collapsed": false,
     "input": [
      "# do a random simulation to evaluate how many traversals need to be done to reach\n",
      "# the last element in the list\n",
      "def skiplist_traverse_mc(max_level, max_count, n=100):\n",
      "    z = []\n",
      "    for _ in range(n):\n",
      "        x = SkipList(max_level)\n",
      "        for i in reversed(range(max_count)):\n",
      "            x.insert_node(i)\n",
      "        \n",
      "        x.find(254)\n",
      "        z.append(x._n_traverse)\n",
      "\n",
      "    return z\n"
     ],
     "language": "python",
     "metadata": {},
     "outputs": [],
     "prompt_number": 53
    },
    {
     "cell_type": "code",
     "collapsed": false,
     "input": [
      "avgs = []\n",
      "for i in range(1, 10):\n",
      "    z = skiplist_traverse_mc(i, 200)\n",
      "    avgs.append((i, average(z)))\n",
      "\n",
      "avgs = numpy.array(avgs)"
     ],
     "language": "python",
     "metadata": {},
     "outputs": [],
     "prompt_number": 51
    },
    {
     "cell_type": "code",
     "collapsed": false,
     "input": [
      "# graph average to traverse to last of 200 elements\n",
      "plot(avgs[:,0], avgs[:,1])\n",
      "axis(ymin=0, xmin=0)\n",
      "xlabel('skiplist max level')\n",
      "ylabel('time to traverse to last of 200 elements')"
     ],
     "language": "python",
     "metadata": {},
     "outputs": [
      {
       "output_type": "pyout",
       "prompt_number": 52,
       "text": [
        "<matplotlib.text.Text at 0x10b832150>"
       ]
      },
      {
       "output_type": "display_data",
       "png": "[encoded data removed]",
       "text": [
        "<matplotlib.figure.Figure at 0x10b827ad0>"
       ]
      }
     ],
     "prompt_number": 52
    },
    {
     "cell_type": "code",
     "collapsed": false,
     "input": [],
     "language": "python",
     "metadata": {},
     "outputs": []
    }
   ],
   "metadata": {}
  }
 ]
}