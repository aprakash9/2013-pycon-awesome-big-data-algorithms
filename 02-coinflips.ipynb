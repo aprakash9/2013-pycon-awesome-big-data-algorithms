{
 "metadata": {
  "name": "02-coinflips"
 },
 "nbformat": 3,
 "nbformat_minor": 0,
 "worksheets": [
  {
   "cells": [
    {
     "cell_type": "markdown",
     "metadata": {},
     "source": [
      "See http://ivory.idyll.org/blog/2013-pycon-awesome-big-data-algorithms-talk.html"
     ]
    },
    {
     "cell_type": "code",
     "collapsed": false,
     "input": [
      "# Flip a lot of coins;\n",
      "# Use the distribution of longest run of zeros to infer how many\n",
      "# coinflips were done, ex post facto.\n",
      "import random\n",
      "def generate_coinflips(num):\n",
      "    return [ random.choice([0,1]) for i in range(num) ]\n",
      "\n",
      "def longest_run_zero(x):\n",
      "    i = 0\n",
      "    count = 0\n",
      "    max_count = 0\n",
      "    while i < len(x):\n",
      "        if x[i] == 0:\n",
      "            count += 1\n",
      "        else:\n",
      "            if count > max_count:\n",
      "                max_count = count\n",
      "            count = 0\n",
      "        i += 1\n",
      "        \n",
      "    return max_count"
     ],
     "language": "python",
     "metadata": {},
     "outputs": [],
     "prompt_number": 7
    },
    {
     "cell_type": "code",
     "collapsed": false,
     "input": [
      "def longest_run_mc(runsize, num):\n",
      "    z = []\n",
      "    for i in range(num):\n",
      "        x = generate_coinflips(runsize)\n",
      "        count = longest_run_zero(x)\n",
      "        z.append(count)\n",
      "        \n",
      "    return z"
     ],
     "language": "python",
     "metadata": {},
     "outputs": [],
     "prompt_number": 8
    },
    {
     "cell_type": "code",
     "collapsed": false,
     "input": [
      "# do 100 runs of 1000 coinflips, and plot the distribution\n",
      "d = longest_run_mc(100, 1000)\n",
      "hist(d, bins=max(d), range=(0, max(d)))\n",
      "\n",
      "# we expect a peak right around...\n",
      "print math.log(100, 2)"
     ],
     "language": "python",
     "metadata": {},
     "outputs": [
      {
       "output_type": "stream",
       "stream": "stdout",
       "text": [
        "6.64385618977\n"
       ]
      },
      {
       "output_type": "display_data",
       "png": "[encoded data removed]",
       "text": [
        "<matplotlib.figure.Figure at 0x10b82c510>"
       ]
      }
     ],
     "prompt_number": 9
    },
    {
     "cell_type": "code",
     "collapsed": false,
     "input": [
      "# if we do 500 coinflips, the peak shifts right, to... \n",
      "d = longest_run_mc(500, 1000)\n",
      "hist(d, bins=max(d), range=(0, max(d)))\n",
      "print math.log(500, 2)"
     ],
     "language": "python",
     "metadata": {},
     "outputs": [
      {
       "output_type": "stream",
       "stream": "stdout",
       "text": [
        "8.96578428466\n"
       ]
      },
      {
       "output_type": "display_data",
       "png": "[encoded data removed]",
       "text": [
        "<matplotlib.figure.Figure at 0x10b886250>"
       ]
      }
     ],
     "prompt_number": 10
    }
   ],
   "metadata": {}
  }
 ]
}